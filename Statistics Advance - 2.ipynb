{
 "cells": [
  {
   "cell_type": "markdown",
   "id": "386ab747-a338-4ed9-b4b6-c293b3468a3b",
   "metadata": {},
   "source": [
    "##### Question1: Define the z-statistic and explain its relationship to the standard normal distribution. How is the z-statistic used in hypothesis testing?"
   ]
  },
  {
   "cell_type": "code",
   "execution_count": null,
   "id": "5eac4573-dbd6-48d3-a661-8123292a2016",
   "metadata": {},
   "outputs": [],
   "source": [
    "# Answer: The z-statistic (or z-score) is a measure that describes the position of a raw score in terms of its distance from the mean,\n",
    "# measured in standard deviations. It is calculated using the formula:\n",
    "# z=σ(X−μ)​\n",
    "# where:\n",
    "\n",
    "# ( X ) is the raw score,\n",
    "# ( \\mu ) is the population mean,\n",
    "# ( \\sigma ) is the population standard deviation.\n",
    "\n",
    "# Relationship to the Standard Normal Distribution\n",
    "# The z-statistic transforms data into a standard normal distribution, which has a mean of 0 and a standard deviation of 1.\n",
    "# This transformation allows for the comparison of scores from different distributions. The standard normal distribution is a special case of the normal distribution, often referred to as the Z-distribution.\n",
    "\n",
    "# Use in Hypothesis Testing\n",
    "# In hypothesis testing, the z-statistic is used to determine whether to reject the null hypothesis. Here’s how it works:\n",
    "\n",
    "# Formulate Hypotheses: Define the null hypothesis ((H_0)) and the alternative hypothesis ((H_1)).\n",
    "# Calculate the Z-Statistic: Use the sample data to calculate the z-statistic.\n",
    "# Determine the P-Value: The p-value is the probability of obtaining a test statistic at least as extreme as the one observed, assuming the null hypothesis is true.\n",
    "# Compare P-Value to Significance Level: If the p-value is less than the chosen significance level (e.g., 0.05), reject the null hypothesis."
   ]
  },
  {
   "cell_type": "markdown",
   "id": "817cb428-3b32-46d1-882f-dd63f3968ea2",
   "metadata": {},
   "source": [
    "##### Question2 : What is a p-value, and how is it used in hypothesis testing? What does it mean if the p-value is very small (e.g., 0.01)?"
   ]
  },
  {
   "cell_type": "code",
   "execution_count": null,
   "id": "85eaade1-4419-4b49-b30e-a7f6d42177d5",
   "metadata": {},
   "outputs": [],
   "source": [
    "# Answer: Definition of a P-value:\n",
    "# The p-value (probability value) is the probability of obtaining a test statistic at least as extreme as the one observed,\n",
    "# assuming the null hypothesis is true. In other words, it tells you how likely it is to observe your sample data if the null hypothesis is correct.\n",
    "\n",
    "# A low p-value indicates that the observed data is unlikely under the null hypothesis, suggesting that the null hypothesis may not be true.\n",
    "# A high p-value suggests that the observed data is consistent with the null hypothesis.\n",
    "# Usage of P-value in Hypothesis Testing:\n",
    "# In hypothesis testing, the p-value helps determine the statistical significance of the result.\n",
    "\n",
    "# Set up the null hypothesis (H₀) and the alternative hypothesis (H₁).\n",
    "# Calculate the test statistic (e.g., Z-statistic, t-statistic) based on the sample data.\n",
    "# Obtain the p-value from the corresponding statistical test (e.g., Z-test, t-test).\n",
    "# Compare the p-value to a significance level (α), typically set at 0.05 (5%) or 0.01 (1%).\n",
    "# Decision Rule:\n",
    "# If the p-value ≤ α, reject the null hypothesis. This means the result is statistically significant, and there is enough evidence to support the alternative hypothesis.\n",
    "# If the p-value > α, fail to reject the null hypothesis. This means the result is not statistically significant, and there is insufficient evidence to support the alternative hypothesis.\n",
    "# Meaning of a Small P-value (e.g., 0.01):\n",
    "# A very small p-value, such as 0.01, means that the probability of observing such extreme data under the assumption that the null\n",
    "# hypothesis is true is just 1%. This suggests strong evidence against the null hypothesis.\n",
    "\n",
    "# If the p-value = 0.01, and the significance level is set at 0.05, you would reject the null hypothesis because 0.01 is less than 0.05.\n",
    "# A small p-value (like 0.01) implies that the observed data is highly unlikely under the null hypothesis, leading to the conclusion that the alternative hypothesis may be true."
   ]
  },
  {
   "cell_type": "markdown",
   "id": "5159d1d7-f2c6-43b0-b43c-3468148ae827",
   "metadata": {},
   "source": [
    "##### Question3: Compare and contrast the binomial and Bernoulli distributions."
   ]
  },
  {
   "cell_type": "code",
   "execution_count": null,
   "id": "8eeaeaac-0430-446a-a086-52390c110ff0",
   "metadata": {},
   "outputs": [],
   "source": [
    "# Answer: The Bernoulli and binomial distributions are both discrete probability distributions that describe the outcomes of experiments with two possible outcomes,\n",
    "# often termed “success” and “failure.” Here’s a comparison and contrast of the two:\n",
    "\n",
    "# Bernoulli Distribution\n",
    "\n",
    "# Definition: The Bernoulli distribution is the simplest discrete probability distribution, representing a single trial with two possible outcomes.\n",
    "# Parameters: It has one parameter, ( p ), which is the probability of success (where ( 0 \\leq p \\leq 1 )).\n",
    "# Probability Mass Function (PMF):P(X=x)={p1−p​if x=1if x=0​\n",
    "\n",
    "# Mean: ( \\mu = p )\n",
    "# Variance: ( \\sigma^2 = p(1 - p) )\n",
    "# Example: Flipping a coin once, where success (1) could be getting heads and failure (0) could be getting tails.\n",
    "\n",
    "# Binomial Distribution\n",
    "\n",
    "# Definition: The binomial distribution generalizes the Bernoulli distribution to multiple independent trials.\n",
    "# Parameters: It has two parameters, ( n ) (number of trials) and ( p ) (probability of success in each trial).\n",
    "# Probability Mass Function (PMF):P(X=k)=(kn​)pk(1−p)n−k\n",
    "# where ( \\binom{n}{k} ) is the binomial coefficient, representing the number of ways to choose ( k ) successes out of ( n ) trials.\n",
    "# Mean: ( \\mu = np )\n",
    "# Variance: ( \\sigma^2 = np(1 - p) )\n",
    "# Example: Flipping a coin 10 times, where you count the number of heads (successes).\n",
    "\n",
    "# Key Differences\n",
    "\n",
    "# Number of Trials: The Bernoulli distribution deals with a single trial, while the binomial distribution deals with multiple trials.\n",
    "# Range of Outcomes: The Bernoulli distribution has outcomes of 0 or 1, whereas the binomial distribution has outcomes ranging from 0 to ( n ) (the number of trials).\n",
    "# Applications: The Bernoulli distribution is used for simple yes/no experiments, while the binomial distribution is used for experiments where the number of successes in a fixed number of trials is of interest.\n",
    "\n",
    "# Key Similarities\n",
    "\n",
    "# Binary Outcomes: Both distributions describe experiments with two possible outcomes.\n",
    "# Parameter ( p ): Both use the probability of success ( p ) as a key parameter.\n",
    "# Discrete Nature: Both are discrete distributions, meaning they deal with countable outcomes."
   ]
  },
  {
   "cell_type": "markdown",
   "id": "261ede4d-35b9-4c5e-a268-f8fa3cfbfb74",
   "metadata": {},
   "source": [
    "##### Question 4: Under what conditions is the binomial distribution used, and how does it relate to the Bernoulli distribution?"
   ]
  },
  {
   "cell_type": "code",
   "execution_count": null,
   "id": "03fd52cc-e9f7-40c0-b827-57f379aca537",
   "metadata": {},
   "outputs": [],
   "source": [
    "# Answer: The binomial distribution is used under specific conditions that involve repeated trials of a binary experiment.\n",
    "# Here are the conditions and its relationship to the Bernoulli distribution:\n",
    "# Conditions for Using the Binomial Distribution\n",
    "\n",
    "# Fixed Number of Trials: The experiment consists of a fixed number of trials, denoted by ( n ).\n",
    "# Binary Outcomes: Each trial has only two possible outcomes: success (usually coded as 1) and failure (usually coded as 0).\n",
    "# Constant Probability: The probability of success, ( p ), remains constant for each trial.\n",
    "# Independence: The trials are independent, meaning the outcome of one trial does not affect the outcome of another.\n",
    "\n",
    "# Relationship to the Bernoulli Distribution\n",
    "\n",
    "# Single Trial vs. Multiple Trials: The Bernoulli distribution describes the outcome of a single trial, while the binomial distribution describes the number of successes in multiple independent trials.\n",
    "# Summation of Bernoulli Trials: The binomial distribution can be seen as the sum of ( n ) independent Bernoulli trials, each with the same probability of success ( p ).\n",
    "# If ( X_i ) represents the outcome of the ( i )-th Bernoulli trial, then the binomial random variable ( X ) is given by:X=i=1∑n​Xi​\n",
    "# where ( X_i ) follows a Bernoulli distribution with parameter ( p ).\n",
    "\n",
    "# Example\n",
    "# Consider flipping a fair coin 10 times. Each flip is a Bernoulli trial with ( p = 0.5 ). The number of heads (successes) in these 10 flips follows a binomial distribution with parameters ( n = 10 ) and ( p = 0.5 )."
   ]
  },
  {
   "cell_type": "markdown",
   "id": "3ddfd81e-06ce-4452-95a5-05ac9986eb8e",
   "metadata": {},
   "source": [
    "##### Question5: What are the key properties of the Poisson distribution, and when is it appropriate to use this distribution?"
   ]
  },
  {
   "cell_type": "code",
   "execution_count": null,
   "id": "f7604cbe-c3fb-417d-a78b-b3875830ee1b",
   "metadata": {},
   "outputs": [],
   "source": [
    "# The Poisson distribution is a discrete probability distribution that describes the probability of a given number of events occurring within a fixed interval of time or space. Here are its key properties and appropriate use cases:\n",
    "# Key Properties\n",
    "\n",
    "# Parameter: The Poisson distribution is characterized by a single parameter, ( \\lambda ) (lambda), which represents the average number of events in the given interval.\n",
    "# Probability Mass Function (PMF):P(X=k)=k!λke−λ​\n",
    "# where ( k ) is the number of events, ( e ) is the base of the natural logarithm, and ( k! ) is the factorial of ( k ).\n",
    "# Mean and Variance: Both the mean and the variance of the Poisson distribution are equal to ( \\lambda ).\n",
    "# Memoryless Property: The Poisson distribution is memoryless, meaning the probability of an event occurring in a future interval is independent of the past intervals.\n",
    "# Discrete Nature: It deals with countable events, such as the number of occurrences of an event.\n",
    "\n",
    "# Appropriate Use Cases\n",
    "# The Poisson distribution is appropriate to use when:\n",
    "\n",
    "# Events Occur Independently: The occurrence of one event does not affect the probability of another event occurring.\n",
    "# Constant Mean Rate: The average rate (( \\lambda )) at which events occur is constant over the interval.\n",
    "# Rare Events: It is often used for modeling rare events in a large population or over a large area.\n",
    "\n",
    "# Examples of Use Cases\n",
    "\n",
    "# Call Centers: Modeling the number of calls received per hour1.\n",
    "# Traffic Flow: Counting the number of cars passing through a toll booth in a given time period1.\n",
    "# Biology: Estimating the number of mutations in a given length of DNA strand.\n",
    "# Quality Control: Counting the number of defects in a batch of products"
   ]
  },
  {
   "cell_type": "markdown",
   "id": "da4a0e14-ec36-41fa-8795-ed44b83a15c9",
   "metadata": {},
   "source": [
    "##### Question6: Define the terms \"probability distribution\" and \"probability density function\" (PDF). How does a PDF differ from a probability mass function (PMF)?"
   ]
  },
  {
   "cell_type": "code",
   "execution_count": null,
   "id": "1fec565e-3e4b-4034-9fbb-e23d620e60e1",
   "metadata": {},
   "outputs": [],
   "source": [
    "# Probability Distribution\n",
    "# A probability distribution describes how the values of a random variable are distributed. It provides the probabilities of occurrence of\n",
    "# different possible outcomes in an experiment. There are two main types of probability distributions: discrete and continuous.\n",
    "\n",
    "# Probability Density Function (PDF)\n",
    "# A probability density function (PDF) is used to specify the probability of a continuous random variable falling within a particular\n",
    "# range of values, rather than taking on any one value. The PDF is a function that describes the relative likelihood for this random variable to take on a given value. The key properties of a PDF are:\n",
    "\n",
    "# The area under the PDF curve over the entire range of possible values is equal to 1.\n",
    "# The probability that the variable falls within a particular interval is given by the area under the curve within that interval.\n",
    "# Probability Mass Function (PMF)\n",
    "# A probability mass function (PMF) is used for discrete random variables. It gives the probability that a discrete random variable is \n",
    "# exactly equal to some value. The key properties of a PMF are:\n",
    "\n",
    "# The sum of all probabilities for all possible values of the random variable is equal to 1.\n",
    "# Each value of the random variable has a non-zero probability.\n",
    "# Differences Between PDF and PMF\n",
    "# Type of Variable: A PDF is used for continuous random variables, while a PMF is used for discrete random variables.\n",
    "# Probability Calculation: For a PDF, probabilities are calculated over intervals (areas under the curve), whereas for a PMF, probabilities are calculated for specific values.\n",
    "# Function Nature: A PDF is a continuous function, while a PMF is a discrete function.\n",
    "                                                                                                                                             \n",
    "# Example\n",
    "# PDF Example: The height of people in a population can be modeled using a normal distribution, which is a continuous distribution. The PDF would describe the probability density of different height ranges.\n",
    "# PMF Example: The number of heads in 10 coin flips can be modeled using a binomial distribution, which is a discrete distribution. The PMF would describe the probability of getting exactly 0, 1, 2, …, 10 heads."
   ]
  },
  {
   "cell_type": "markdown",
   "id": "8781fcef-0a74-47e6-802f-a77bb9a6444e",
   "metadata": {},
   "source": [
    "##### Question7: Explain the Central Limit Theorem (CLT) with example."
   ]
  },
  {
   "cell_type": "code",
   "execution_count": null,
   "id": "6ef6c93d-d89f-4ea8-b698-006701ac64fc",
   "metadata": {},
   "outputs": [],
   "source": [
    "# Answer: The Central Limit Theorem (CLT) is a fundamental principle in statistics that states that the sampling distribution of the sample mean\n",
    "# (or sum) of a sufficiently large number of independent, identically distributed random variables will be approximately normally distributed,\n",
    "# regardless of the original distribution of the population. Here’s a breakdown of the theorem and an example to illustrate it:\n",
    "\n",
    "# Key Points of the Central Limit Theorem\n",
    "# Sample Size: The theorem holds true when the sample size is large enough (commonly ( n \\geq 30 ) is considered sufficient).\n",
    "# Independence: The samples must be independent of each other.\n",
    "# Identically Distributed: The samples should be drawn from the same distribution.\n",
    "# Why is CLT Important?\n",
    "# Normal Approximation: It allows us to use the normal distribution to make inferences about the population mean, even if the population itself is not normally distributed.\n",
    "# Simplifies Analysis: It simplifies the analysis of data by enabling the use of normal distribution properties.\n",
    "# Example of the Central Limit Theorem\n",
    "# Imagine we have a population of students’ test scores that follow a skewed distribution. We want to understand the average test score.\n",
    "\n",
    "# Population Distribution: The test scores are not normally distributed; they might be skewed to the right.\n",
    "# Sampling: We take multiple random samples of size 50 from this population and calculate the mean of each sample.\n",
    "# Sampling Distribution: According to the CLT, the distribution of these sample means will approximate a normal distribution, even though the original population distribution is skewed.\n",
    "# Visualization\n",
    "# Original Population: Skewed distribution of test scores.\n",
    "# Sample Means: After taking many samples and plotting their means, the distribution of these means will form a bell-shaped curve, approximating a normal distribution.\n",
    "# Practical Application\n",
    "# Suppose we have a population with a Poisson distribution (e.g., the number of emails received per day). If we take 10,000 samples,\n",
    "# each with a sample size of 50, the sample means will follow a normal distribution, as predicted by the CLT"
   ]
  },
  {
   "cell_type": "markdown",
   "id": "02e0063f-9335-4fa5-beae-8d8931e15bec",
   "metadata": {},
   "source": [
    "##### Question8: Compare z-scores and t-scores. When should you use a z-score, and when should a t-score be applied instead?"
   ]
  },
  {
   "cell_type": "code",
   "execution_count": null,
   "id": "e2a9ee96-44af-4809-b821-c1c4d779ca4a",
   "metadata": {},
   "outputs": [],
   "source": [
    "# Answer: Z-Scores vs. T-Scores\n",
    "# Z-Scores\n",
    "\n",
    "# Definition: A z-score indicates how many standard deviations a data point is from the population mean.\n",
    "# Formula:z=σ(X−μ)​\n",
    "# where ( X ) is the sample mean, ( \\mu ) is the population mean, and ( \\sigma ) is the population standard deviation.\n",
    "# Usage: Z-scores are used when the population standard deviation is known and the sample size is large (typically ( n > 30 ))1.\n",
    "\n",
    "# T-Scores\n",
    "\n",
    "# Definition: A t-score is used when the sample size is small and/or the population standard deviation is unknown. It accounts for the additional variability introduced by estimating the population standard deviation from the sample.\n",
    "# Formula:t=(s/n​)(X−μ)​\n",
    "# where ( X ) is the sample mean, ( \\mu ) is the population mean, ( s ) is the sample standard deviation, and ( n ) is the sample size.\n",
    "# Usage: T-scores are used when the population standard deviation is unknown and the sample size is small (typically ( n \\leq 30 ))2.\n",
    "\n",
    "# When to Use Each\n",
    "\n",
    "# Use Z-Scores When:\n",
    "\n",
    "# The population standard deviation (( \\sigma )) is known.\n",
    "# The sample size is large (( n > 30 )).\n",
    "# Example: Testing the mean battery life of a large batch of batteries where the population standard deviation is known.\n",
    "\n",
    "# Use T-Scores When:\n",
    "\n",
    "# The population standard deviation (( \\sigma )) is unknown.\n",
    "# The sample size is small (( n \\leq 30 )).\n",
    "# Example: Testing the mean weight of a small sample of burgers from a restaurant where the population standard deviation is unknown"
   ]
  },
  {
   "cell_type": "markdown",
   "id": "29c1c8ee-98e4-4b66-a2a9-cbd43b48d793",
   "metadata": {},
   "source": [
    "##### Question9: Given a sample mean of 105, a population mean of 100, a standard deviation of 15, and a sample size of 25, calculate the z-score and p-value. Based on a significance level of 0.05, do you reject or fail to reject the null hypothesis?\n",
    "##### Task: Write Python code to calculate the z-score and p-value for the given data.\n",
    "##### Objective: Apply the formula for the z-score and interpret the p-value for hypothesis testing."
   ]
  },
  {
   "cell_type": "code",
   "execution_count": 1,
   "id": "d058f207-cf01-43a2-9383-66d2e60520ce",
   "metadata": {},
   "outputs": [
    {
     "name": "stdout",
     "output_type": "stream",
     "text": [
      "Z-Score: 1.6666666666666667\n",
      "P-Value: 0.09558070454562939\n"
     ]
    }
   ],
   "source": [
    "# Answer:\n",
    "# Sample mean (( \\bar{X} )) = 105\n",
    "# Population mean (( \\mu )) = 100\n",
    "# Standard deviation (( \\sigma )) = 15\n",
    "# Sample size (( n )) = 25\n",
    "\n",
    "# Z-Score Calculation\n",
    "# The formula for the z-score is:\n",
    "# z=(σ/n​)(Xˉ−μ)​\n",
    "# Python Code to Calculate Z-Score and P-Value\n",
    "# Here’s the Python code to calculate the z-score and p-value:\n",
    "import scipy.stats as stats\n",
    "\n",
    "# Given data\n",
    "sample_mean = 105\n",
    "population_mean = 100\n",
    "standard_deviation = 15\n",
    "sample_size = 25\n",
    "\n",
    "# Calculate the z-score\n",
    "z_score = (sample_mean - population_mean) / (standard_deviation / (sample_size ** 0.5))\n",
    "\n",
    "# Calculate the p-value (two-tailed test)\n",
    "p_value = 2 * (1 - stats.norm.cdf(abs(z_score)))\n",
    "\n",
    "# Output the results\n",
    "print(f\"Z-Score: {z_score}\")\n",
    "print(f\"P-Value: {p_value}\")\n",
    "\n",
    "# Interpretation\n",
    "\n",
    "\n",
    "# Calculate the Z-Score:\n",
    "# z=(15/25​)(105−100)​=35​=1.67\n",
    "\n",
    "\n",
    "# Calculate the P-Value:\n",
    "# Using the cumulative distribution function (CDF) of the standard normal distribution, we find the p-value for a two-tailed test:\n",
    "# p=2×(1−CDF(1.67))≈0.095\n",
    "\n",
    "\n",
    "# Decision Rule:\n",
    "\n",
    "# Significance Level (( \\alpha )): 0.05\n",
    "# P-Value: 0.095\n",
    "\n",
    "\n",
    "\n",
    "# Since the p-value (0.095) is greater than the significance level (0.05), we fail to reject the null hypothesis. This means there is not enough evidence to conclude that the sample mean is significantly different from the population mean at the 0.05 significance level."
   ]
  },
  {
   "cell_type": "markdown",
   "id": "5e19135f-c6ce-4d8b-8b04-b80cf03d7034",
   "metadata": {},
   "source": [
    "##### Question10: Simulate a binomial distribution with 10 trials and a probability of success of 0.6 using Python. Generate 1,000 samples and plot the distribution. What is the expected mean and variance?\n",
    "##### Task: Use Python to generate the data, plot the distribution, and calculate the mean and variance.\n",
    "##### Objective: Understand the properties of a binomial distribution and verify them through simulation."
   ]
  },
  {
   "cell_type": "code",
   "execution_count": 6,
   "id": "61d9c995-754f-4649-8b78-1c37b664dc40",
   "metadata": {},
   "outputs": [
    {
     "data": {
      "image/png": "[encoded data removed]",
      "text/plain": [
       "<Figure size 640x480 with 1 Axes>"
      ]
     },
     "metadata": {},
     "output_type": "display_data"
    },
    {
     "name": "stdout",
     "output_type": "stream",
     "text": [
      "Calculated Mean: 6.007\n",
      "Calculated Variance: 2.2589510000000006\n"
     ]
    }
   ],
   "source": [
    "# Answer:\n",
    "# Expected Mean and Variance\n",
    "# For a binomial distribution with parameters ( n ) (number of trials) and ( p ) (probability of success), the mean (( \\mu )) and variance (( \\sigma^2 )) are given by:\n",
    "\n",
    "# Mean: ( \\mu = n \\cdot p )\n",
    "# Variance: ( \\sigma^2 = n \\cdot p \\cdot (1 - p) )\n",
    "# Given ( n = 10 ) and ( p = 0.6 ):\n",
    "\n",
    "# Expected Mean: ( \\mu = 10 \\cdot 0.6 = 6 )\n",
    "# Expected Variance: ( \\sigma^2 = 10 \\cdot 0.6 \\cdot 0.4 = 2.4 )\n",
    "# Python Code to Simulate and Plot the Distribution\n",
    "# Here’s the Python code to generate the data, plot the distribution, and calculate the mean and variance:\n",
    "\n",
    "# Python\n",
    "\n",
    "import numpy as np\n",
    "import matplotlib.pyplot as plt\n",
    "import seaborn as sns\n",
    "\n",
    "# Parameters\n",
    "n = 10\n",
    "p = 0.6\n",
    "size = 1000\n",
    "\n",
    "# Generate binomial distribution samples\n",
    "samples = np.random.binomial(n, p, size)\n",
    "\n",
    "# Calculate mean and variance\n",
    "mean = np.mean(samples)\n",
    "variance = np.var(samples)\n",
    "\n",
    "# Plot the distribution\n",
    "sns.histplot(samples, bins=range(n+2), kde=False, stat=\"density\")\n",
    "plt.title('Binomial Distribution (n=10, p=0.6)')\n",
    "plt.xlabel('Number of Successes')\n",
    "plt.ylabel('Frequency')\n",
    "plt.show()\n",
    "\n",
    "# Output the results\n",
    "print(f\"Calculated Mean: {mean}\")\n",
    "print(f\"Calculated Variance: {variance}\")\n",
    "\n",
    "# Explanation\n",
    "# Generate Samples: We use np.random.binomial to generate 1,000 samples from a binomial distribution with 10 trials and a probability of success of 0.6.\n",
    "# Calculate Mean and Variance: We calculate the mean and variance of the generated samples using np.mean and np.var.\n",
    "# Plot the Distribution: We use Seaborn’s histplot to plot the distribution of the samples.\n",
    "# Running the Code\n",
    "# When you run the code, you should see a histogram of the binomial distribution. The calculated mean and variance should be close to the expected values of 6 and 2.4, respectively."
   ]
  },
  {
   "cell_type": "code",
   "execution_count": null,
   "id": "ac6de334-7ff9-40ec-84fd-0f57bd797113",
   "metadata": {},
   "outputs": [],
   "source": []
  }
 ],
 "metadata": {
  "kernelspec": {
   "display_name": "Python 3 (ipykernel)",
   "language": "python",
   "name": "python3"
  },
  "language_info": {
   "codemirror_mode": {
    "name": "ipython",
    "version": 3
   },
   "file_extension": ".py",
   "mimetype": "text/x-python",
   "name": "python",
   "nbconvert_exporter": "python",
   "pygments_lexer": "ipython3",
   "version": "3.12.6"
  }
 },
 "nbformat": 4,
 "nbformat_minor": 5
}
